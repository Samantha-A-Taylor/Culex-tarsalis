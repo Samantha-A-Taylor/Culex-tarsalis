{
 "cells": [
  {
   "cell_type": "markdown",
   "metadata": {},
   "source": [
    "# <span style=\"color:lightseagreen\">*C. tarsalis* Reference Genome Masking & Mappability Analysis</span>\n",
    "***\n",
    "#### 2021 - 2022 Academic Year\n",
    "***"
   ]
  },
  {
   "cell_type": "markdown",
   "metadata": {},
   "source": [
    "### <span style=\"color:lightseagreen\">Reference Genome Masking With MaskFasta To Improve Alignment</span>\n",
    "Due to some parts of the *C. tarsalis* genome containing repeat-heavy regions, the creators of the reference genome [[1]](https://doi.org/10.1093/g3journal/jkaa063) used the Repeat Masker program [[2]](http://www.repeatmasker.org) and a custom repeat library to annotate 60.8% of the genome as a repeat feature. A gff3 file was created of the repeated regions, which was modified for use during the bedtools maskfasta step.\n",
    "\n",
    "Bedtools utilities [[3]](https://github.com/arq5x/bedtools2) allow for the intersection, merging, counting, complementing, and shuffling of genomic intervals from multiple files in file formats such as BAM, BED, GFF/GTF, and VCF. Bedtools V2.29.0 was used.\n",
    "\n",
    "For the purposes of this project, the bedtools maskfasta utility was used to mask FASTA file sequences using the reference genome fasta and complementary gff3 file. The repeat masker features in the previously made gff3 were used to create a masked reference genome, which annotated 60.843% of the genome as repeat features."
   ]
  },
  {
   "cell_type": "code",
   "execution_count": 2,
   "metadata": {},
   "outputs": [],
   "source": [
    "%%script bash --bg\n",
    "\n",
    "module load bedtools2\n",
    "\n",
    "bedtools maskfasta -fi Culex-tarsalis_knwr_CONTIGS_CtarK1.fa -bed RM_only-Culex-tarsalis_knwr_BASEFEATURES_CtarK1.gff3 -fo Masked-Culex-tarsalis_knwr_CONTIGS_CtarK1.fa -mc X"
   ]
  },
  {
   "cell_type": "markdown",
   "metadata": {},
   "source": [
    "***\n",
    "### <span style=\"color:lightseagreen\">Determining Reference Genome Mappability With GenMap</span>\n",
    "Due to the continuation of poor coverage, poor quality data, GenMap [[4]](https://doi.org/10.1093/bioinformatics/btaa222) was used on the *C. tarsalis* reference genome to compute mappability; essencially, to see if sections of the genome were unable to be mapped to. The genome was indexed, and (150,2) mappability was computed. Text, wig and bedGraph files were created as output. A mappability value of 1 at position i indicates the k-mer in the sequence at position 1 occurs only once in the reference sequence. A mappability value of 0.5, implies it occurs twice in the sequence. The lower the mappability value, the more repetitive the region. Genmap V1.3.0 was used."
   ]
  },
  {
   "cell_type": "code",
   "execution_count": 3,
   "metadata": {},
   "outputs": [],
   "source": [
    "%%script bash --bg\n",
    "\n",
    "$ ./genmap index -F Culex-tarsalis_knwr_CONTIGS_CtarK1.fa -I ./genmapculex\n",
    "$ ./genmap map -K 150 -E 2 -I ./genmapculex -O ./mappability -t -w -bg\n",
    "\n",
    "$ ./genmap index -F Masked-Culex-tarsalis_knwr_CONTIGS_CtarK1.fa -I ./Mgenmapculex\n",
    "$ ./genmap map -K 150 -E 2 -I ./Mgenmapculex -O ./Mmappability -t -w -bg"
   ]
  },
  {
   "cell_type": "markdown",
   "metadata": {},
   "source": [
    "<center><img src=https://docs.google.com/spreadsheets/d/e/2PACX-1vQAbfJI0vW6L2FuKmiRhE4CXdPhLWgT2Ju42TsgpMrmpP6WW2ak9u4VdKBfmP3ABFJh58yJsL3c_anm/pubchart?oid=1597902179&format=image>\n",
    " \n",
    "<center><img src=https://docs.google.com/spreadsheets/d/e/2PACX-1vQAbfJI0vW6L2FuKmiRhE4CXdPhLWgT2Ju42TsgpMrmpP6WW2ak9u4VdKBfmP3ABFJh58yJsL3c_anm/pubchart?oid=1839822780&format=image>"
   ]
  },
  {
   "cell_type": "markdown",
   "metadata": {},
   "source": [
    "***\n",
    "### <span style=\"color:lightseagreen\">References</span>\n",
    "[1] Bradley J Main, Matteo Marcantonio, J Spencer Johnston, Jason L Rasgon, C Titus Brown, Christopher M Barker, Whole-genome assembly of Culex tarsalis, G3 Genes|Genomes|Genetics, Volume 11, Issue 2, February 2021, jkaa063, https://doi.org/10.1093/g3journal/jkaa063\n",
    "<br>[2] Smit, AFA, Hubley, R & Green, P. RepeatMasker Open-4.0. 2013-2015 http://www.repeatmasker.org.\n",
    "<br>[3] Quinlan AR and Hall IM, 2010. BEDTools: a flexible suite of utilities for comparing genomic features. Bioinformatics. 26, 6, pp. 841–842.\n",
    "<br>[4] Christopher Pockrandt, Mai Alzamel, Costas S Iliopoulos, Knut Reinert, GenMap: ultra-fast computation of genome mappability, Bioinformatics, Volume 36, Issue 12, 15 June 2020, Pages 3687–3692, https://doi.org/10.1093/bioinformatics/btaa222"
   ]
  }
 ],
 "metadata": {
  "kernelspec": {
   "display_name": "Python 3",
   "language": "python",
   "name": "python3"
  },
  "language_info": {
   "codemirror_mode": {
    "name": "ipython",
    "version": 3
   },
   "file_extension": ".py",
   "mimetype": "text/x-python",
   "name": "python",
   "nbconvert_exporter": "python",
   "pygments_lexer": "ipython3",
   "version": "3.8.3"
  }
 },
 "nbformat": 4,
 "nbformat_minor": 4
}
